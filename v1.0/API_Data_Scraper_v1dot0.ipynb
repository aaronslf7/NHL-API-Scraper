{
 "cells": [
  {
   "cell_type": "markdown",
   "id": "574a0e40",
   "metadata": {},
   "source": [
    "# NHL API Scraper\n",
    "\n",
    "A hockey scraper for the new NHL API. The `game_id` parameter is the same used to call the NHL API. These functions get the job done although I'm sure they can be optimized for speed and efficiency. \n",
    "\n",
    "### Implemented Functions\n",
    "\n",
    "- `get_away_roster(game_id)`: returns a dictionary with player names and IDs of the away roster.\n",
    "- `get_home_roster(game_id)`: returns a dictionary with player names and IDs of the home roster.\n",
    "- `get_game_roster(game_id)`: returns a dictionary with player names and IDs of both teams.\n",
    "\n",
    "- `get_away_positions(game_id)`: returns a dictionary with player IDs and player positions of the away roster.\n",
    "- `get_home_positions(game_id)`: returns a dictionary with player IDs and player positions of the home roster.\n",
    "- `get_game_positions(game_id)`: returns a dictionary with player IDs and player positions of both teams.\n",
    "\n",
    "- `get_play_by_play(game_id)`: returns a pandas DataFrame of the play-by-play. \n",
    "- `get_multi_play_by_play([list of game ids])`: returns a pandas DataFrame of the play-by-play of all the listed games. \n",
    "\n",
    "\n",
    "### Other Functions to Implement\n",
    "\n",
    "- ?\n",
    "\n",
    "<br>"
   ]
  },
  {
   "cell_type": "code",
   "execution_count": 1,
   "id": "c1fb6fa1",
   "metadata": {},
   "outputs": [],
   "source": [
    "import requests\n",
    "import pandas as pd\n",
    "import numpy as np\n",
    "from datetime import datetime\n",
    "\n",
    "# from Game_Contribution_v1dot1 import *"
   ]
  },
  {
   "cell_type": "code",
   "execution_count": 2,
   "id": "2caa7aa0",
   "metadata": {},
   "outputs": [],
   "source": [
    "game_id = 2023020172"
   ]
  },
  {
   "cell_type": "markdown",
   "id": "93f86d16",
   "metadata": {},
   "source": [
    "## Player Names and IDs Dictionary"
   ]
  },
  {
   "cell_type": "code",
   "execution_count": 3,
   "id": "f7b5c1ae",
   "metadata": {},
   "outputs": [],
   "source": [
    "def get_away_roster(game_id):\n",
    "    \n",
    "    pbp = requests.get('https://api-web.nhle.com/v1/gamecenter/'+str(game_id)+'/play-by-play')\n",
    "    pbp_data = pbp.json()\n",
    "    \n",
    "    game_roster = pbp_data.get('rosterSpots')\n",
    "    awayTeam_Id = pbp_data.get('awayTeam').get('id')\n",
    "    \n",
    "    away_roster = {}\n",
    "\n",
    "    for i in range(len(game_roster)):\n",
    "    \n",
    "        playerName = (game_roster[i].get('firstName').get('default') + ' ' + game_roster[i].get('lastName').get('default')).upper()\n",
    "    \n",
    "        if game_roster[i].get('teamId') == awayTeam_Id: # If player is on the away team\n",
    "            away_roster.update({game_roster[i].get('playerId') : playerName})\n",
    "            \n",
    "    return away_roster"
   ]
  },
  {
   "cell_type": "code",
   "execution_count": 4,
   "id": "2445748c",
   "metadata": {},
   "outputs": [],
   "source": [
    "# %%time\n",
    "# # Testing\n",
    "# get_away_roster(2023020001) "
   ]
  },
  {
   "cell_type": "code",
   "execution_count": 5,
   "id": "f08e93ce",
   "metadata": {},
   "outputs": [],
   "source": [
    "def get_home_roster(game_id):\n",
    "    \n",
    "    pbp = requests.get('https://api-web.nhle.com/v1/gamecenter/'+str(game_id)+'/play-by-play')\n",
    "    pbp_data = pbp.json()\n",
    "    \n",
    "    game_roster = pbp_data.get('rosterSpots')\n",
    "    homeTeam_Id = pbp_data.get('homeTeam').get('id')\n",
    "    \n",
    "    home_roster = {}\n",
    "\n",
    "    for i in range(len(game_roster)):\n",
    "    \n",
    "        playerName = (game_roster[i].get('firstName').get('default') + ' ' + game_roster[i].get('lastName').get('default')).upper()\n",
    "    \n",
    "        if game_roster[i].get('teamId') == homeTeam_Id: # If player is on the home team\n",
    "            home_roster.update({game_roster[i].get('playerId') : playerName})\n",
    "            \n",
    "    return home_roster"
   ]
  },
  {
   "cell_type": "code",
   "execution_count": 6,
   "id": "0dfc1bd1",
   "metadata": {},
   "outputs": [],
   "source": [
    "# Testing\n",
    "# get_home_roster(2023020001)"
   ]
  },
  {
   "cell_type": "code",
   "execution_count": 7,
   "id": "bd2ee545",
   "metadata": {},
   "outputs": [],
   "source": [
    "def get_game_roster(game_id):\n",
    "    \n",
    "    pbp = requests.get('https://api-web.nhle.com/v1/gamecenter/'+str(game_id)+'/play-by-play')\n",
    "    pbp_data = pbp.json()\n",
    "    \n",
    "    game_roster = pbp_data.get('rosterSpots')\n",
    "    team_rosters = {}\n",
    "\n",
    "    for i in range(len(game_roster)):\n",
    "    \n",
    "        playerName = (game_roster[i].get('firstName').get('default') + ' ' + game_roster[i].get('lastName').get('default')).upper()\n",
    "            \n",
    "        team_rosters.update({game_roster[i].get('playerId') : playerName})\n",
    "            \n",
    "    return team_rosters"
   ]
  },
  {
   "cell_type": "code",
   "execution_count": 8,
   "id": "3c3e8bb5",
   "metadata": {},
   "outputs": [],
   "source": [
    "# Testing\n",
    "# get_game_roster(2023020001)"
   ]
  },
  {
   "cell_type": "markdown",
   "id": "fc647bdd",
   "metadata": {},
   "source": [
    "<br>\n",
    "\n",
    "## Getting Player Positions\n",
    "\n",
    "For the purposes of my model, skaters are classified as either forwards or defencemen with no differentiation between centers or wingers. "
   ]
  },
  {
   "cell_type": "code",
   "execution_count": 9,
   "id": "f6a6c4cc",
   "metadata": {},
   "outputs": [],
   "source": [
    "def get_away_positions(game_id):\n",
    "    \n",
    "    pbp = requests.get('https://api-web.nhle.com/v1/gamecenter/'+str(game_id)+'/play-by-play')\n",
    "    pbp_data = pbp.json()\n",
    "\n",
    "    game_roster = pbp_data.get('rosterSpots')\n",
    "\n",
    "    forwards = ['C','R','L']\n",
    "\n",
    "    away_positions = {}\n",
    "\n",
    "    for i in range(len(game_roster)):\n",
    "\n",
    "        if game_roster[i].get('teamId') == pbp_data.get('awayTeam').get('id'):\n",
    "            if game_roster[i].get('positionCode') in forwards:\n",
    "                away_positions.update({ game_roster[i].get('playerId') : 'F'})\n",
    "            else:\n",
    "                away_positions.update({ game_roster[i].get('playerId') : game_roster[i].get('positionCode')})\n",
    "\n",
    "    return away_positions"
   ]
  },
  {
   "cell_type": "code",
   "execution_count": 10,
   "id": "0b9bfdc5",
   "metadata": {},
   "outputs": [],
   "source": [
    "# Testing\n",
    "# get_away_positions(2023020001)"
   ]
  },
  {
   "cell_type": "code",
   "execution_count": 11,
   "id": "b17c7bee",
   "metadata": {},
   "outputs": [],
   "source": [
    "def get_home_positions(game_id):\n",
    "    \n",
    "    pbp = requests.get('https://api-web.nhle.com/v1/gamecenter/'+str(game_id)+'/play-by-play')\n",
    "    pbp_data = pbp.json()\n",
    "\n",
    "    game_roster = pbp_data.get('rosterSpots')\n",
    "\n",
    "    forwards = ['C','R','L']\n",
    "\n",
    "    home_positions = {}\n",
    "\n",
    "    for i in range(len(game_roster)):\n",
    "\n",
    "        if game_roster[i].get('teamId') == pbp_data.get('homeTeam').get('id'):\n",
    "            if game_roster[i].get('positionCode') in forwards:\n",
    "                home_positions.update({ game_roster[i].get('playerId') : 'F'})\n",
    "            else:\n",
    "                home_positions.update({ game_roster[i].get('playerId') : game_roster[i].get('positionCode')})\n",
    "\n",
    "    return home_positions"
   ]
  },
  {
   "cell_type": "code",
   "execution_count": 12,
   "id": "02ab4151",
   "metadata": {},
   "outputs": [],
   "source": [
    "# Testing\n",
    "# get_home_positions(2023020001)"
   ]
  },
  {
   "cell_type": "code",
   "execution_count": 13,
   "id": "a73b4fef",
   "metadata": {},
   "outputs": [],
   "source": [
    "def get_game_positions(game_id):\n",
    "    \n",
    "    pbp = requests.get('https://api-web.nhle.com/v1/gamecenter/'+str(game_id)+'/play-by-play')\n",
    "    pbp_data = pbp.json()\n",
    "\n",
    "    game_roster = pbp_data.get('rosterSpots')\n",
    "\n",
    "    forwards = ['C','R','L']\n",
    "\n",
    "    game_positions = {}\n",
    "\n",
    "    for i in range(len(game_roster)):\n",
    "\n",
    "        if game_roster[i].get('positionCode') in forwards:\n",
    "            game_positions.update({ game_roster[i].get('playerId') : 'F'})\n",
    "        else:\n",
    "            game_positions.update({ game_roster[i].get('playerId') : game_roster[i].get('positionCode')})\n",
    "\n",
    "    return game_positions"
   ]
  },
  {
   "cell_type": "code",
   "execution_count": 14,
   "id": "2edb82a0",
   "metadata": {},
   "outputs": [],
   "source": [
    "# Testing\n",
    "# get_game_positions(2023020001)"
   ]
  },
  {
   "cell_type": "markdown",
   "id": "c9117820",
   "metadata": {},
   "source": [
    "<br>\n",
    "\n",
    "### Getting Goalies (Helper Function)"
   ]
  },
  {
   "cell_type": "code",
   "execution_count": 15,
   "id": "d2012a03",
   "metadata": {},
   "outputs": [],
   "source": [
    "def get_goalies_id(game_id):\n",
    "    \n",
    "    roster = get_game_positions(game_id)\n",
    "    \n",
    "    goalies = []\n",
    "    \n",
    "    for key in roster.keys():\n",
    "        if roster.get(key) == 'G':\n",
    "            goalies.append(key)\n",
    "            \n",
    "    return goalies"
   ]
  },
  {
   "cell_type": "code",
   "execution_count": 16,
   "id": "7d551e0a",
   "metadata": {},
   "outputs": [],
   "source": [
    "# %%time\n",
    "\n",
    "# # Tester\n",
    "# get_goalies_id(game_id)"
   ]
  },
  {
   "cell_type": "markdown",
   "id": "8a737b39",
   "metadata": {},
   "source": [
    "<br>"
   ]
  },
  {
   "cell_type": "markdown",
   "id": "5d9b915e",
   "metadata": {},
   "source": [
    "### Known Event typeCodes"
   ]
  },
  {
   "cell_type": "code",
   "execution_count": 17,
   "id": "f231ba92",
   "metadata": {},
   "outputs": [],
   "source": [
    "typeCodes = {502 : 'FACEOFF', 503 : 'HIT', 504 : 'GIVEAWAY', 505 : 'GOAL', 506 : 'SHOT_ON_GOAL', 507 : 'MISSED_SHOT',\n",
    "             508 : 'BLOCKED_SHOT', 509 : 'PENALTY', 516 : 'STOPPAGE', 520 : 'PERIOD_START', 521 : 'PERIOD_END',\n",
    "             523 : 'SHOOTOUT_COMPLETE', 524 : 'GAME_END', 525 : 'TAKEAWAY', 535 : 'DELAYED_PENALTY', \n",
    "             537 : 'FAILED_SHOT_ATTEMPT'}\n",
    "\n",
    "shotCodes = [505,506,507,508]"
   ]
  },
  {
   "cell_type": "markdown",
   "id": "07f44eab",
   "metadata": {},
   "source": [
    "<br>"
   ]
  },
  {
   "cell_type": "markdown",
   "id": "19e02e65",
   "metadata": {},
   "source": [
    "## Play-By-Play DataFrame\n",
    "\n",
    "This combines the play-by-play and shift data. Most of the chosen columns were inspired by Harry Shomer's public hockey scraper that I had used previously. "
   ]
  },
  {
   "cell_type": "code",
   "execution_count": 18,
   "id": "16140bb4",
   "metadata": {},
   "outputs": [],
   "source": [
    "def get_play_by_play(game_id):\n",
    "    \n",
    "    pbp = requests.get('https://api-web.nhle.com/v1/gamecenter/'+str(game_id)+'/play-by-play')\n",
    "    \n",
    "    # Print status message\n",
    "    print('Scraping Game Id',game_id)\n",
    "    \n",
    "    pbp_data = pbp.json()\n",
    "    \n",
    "    game_roster = get_game_roster(game_id)\n",
    "    awayTeam_Id = pbp_data.get('awayTeam').get('id')\n",
    "    homeTeam_Id = pbp_data.get('homeTeam').get('id')\n",
    "    \n",
    "    goalie_ids = get_goalies_id(game_id)\n",
    "    \n",
    "    NoneType = type(None)\n",
    "    \n",
    "    away_on_ice_player_ids = ['awayPlayer1_id','awayPlayer2_id','awayPlayer3_id','awayPlayer4_id','awayPlayer5_id',\n",
    "                              'awayPlayer6_id']\n",
    "    home_on_ice_player_ids = ['homePlayer1_id','homePlayer2_id','homePlayer3_id','homePlayer4_id','homePlayer5_id',\n",
    "                              'homePlayer6_id']\n",
    "    \n",
    "    rows = len(pbp_data.get('plays'))\n",
    "    cols = ['Game_Id','Date','Period','Event_tc','Event','Time_Elapsed','Strength','Ev_Zone','Type','Ev_Team','Away_Team',\n",
    "            'Home_Team','p1_name','p1_ID','p2_name','p2_ID','p3_name','p3_ID','awayPlayer1','awayPlayer1_id','awayPlayer2',\n",
    "            'awayPlayer2_id','awayPlayer3','awayPlayer3_id','awayPlayer4','awayPlayer4_id','awayPlayer5','awayPlayer5_id',\n",
    "            'awayPlayer6','awayPlayer6_id','homePlayer1','homePlayer1_id','homePlayer2','homePlayer2_id','homePlayer3',\n",
    "            'homePlayer3_id','homePlayer4','homePlayer4_id','homePlayer5','homePlayer5_id','homePlayer6','homePlayer6_id',\n",
    "            'Away_Score','Home_Score','Away_Goalie','Away_Goalie_Id','Home_Goalie','Home_Goalie_Id','xC','yC']\n",
    "\n",
    "    pbp_df = pd.DataFrame(index=np.arange(rows),columns=cols)\n",
    "    \n",
    "    for i in range(len(pbp_data.get('plays'))):\n",
    "    \n",
    "        pbp_df['Game_Id'] = pbp_data.get('id')\n",
    "        pbp_df['Date'] = pbp_data.get('gameDate')\n",
    "        pbp_df['Away_Team'] = pbp_data.get('awayTeam').get('abbrev')\n",
    "        pbp_df['Home_Team'] = pbp_data.get('homeTeam').get('abbrev')\n",
    "      \n",
    "        this_play = pbp_data.get('plays')[i]\n",
    "    \n",
    "        pbp_df.at[i,'Period'] = this_play.get('period')\n",
    "        pbp_df.at[i,'Event_tc'] = this_play.get('typeCode')\n",
    "        pbp_df.at[i,'Event'] = typeCodes.get(this_play.get('typeCode'))\n",
    "        pbp_df.at[i,'Time_Elapsed'] = this_play.get('timeInPeriod')\n",
    "        pbp_df.at[i,'Strength'] = str(this_play.get('situationCode'))\n",
    "    \n",
    "        if i == 0:\n",
    "            pbp_df.at[i,'Away_Score'] = 0\n",
    "            pbp_df.at[i,'Home_Score'] = 0\n",
    "        elif this_play.get('typeCode') != 505:\n",
    "            pbp_df.at[i,'Away_Score'] = pbp_df.at[i-1,'Away_Score']\n",
    "            pbp_df.at[i,'Home_Score'] = pbp_df.at[i-1,'Home_Score']\n",
    "   \n",
    "        if this_play.get('typeCode') in [502,503,504,505,506,507,508,509,525,537]: # If Event has xC and yC\n",
    "            pbp_df.at[i,'xC'] = this_play.get('details').get('xCoord')\n",
    "            pbp_df.at[i,'yC'] = this_play.get('details').get('yCoord')\n",
    "            pbp_df.at[i,'Ev_Zone'] = this_play.get('details').get('zoneCode')\n",
    "            if this_play.get('details').get('eventOwnerTeamId') == awayTeam_Id:\n",
    "                pbp_df.at[i,'Ev_Team'] = pbp_data.get('awayTeam').get('abbrev')\n",
    "            else:\n",
    "                pbp_df.at[i,'Ev_Team'] = pbp_data.get('homeTeam').get('abbrev')\n",
    "            \n",
    "        if this_play.get('typeCode') == 502: # If it's a faceoff\n",
    "            pbp_df.at[i,'p1_ID'] = this_play.get('details').get('winningPlayerId')\n",
    "            pbp_df.at[i,'p1_name'] = game_roster.get(this_play.get('details').get('winningPlayerId'))\n",
    "            pbp_df.at[i,'p2_ID'] = this_play.get('details').get('losingPlayerId')\n",
    "            pbp_df.at[i,'p2_name'] = game_roster.get(this_play.get('details').get('losingPlayerId'))\n",
    "        \n",
    "        if this_play.get('typeCode') == 503: # If it's a hit\n",
    "            pbp_df.at[i,'p1_ID'] = this_play.get('details').get('hittingPlayerId')\n",
    "            pbp_df.at[i,'p1_name'] = game_roster.get(this_play.get('details').get('hittingPlayerId'))\n",
    "            pbp_df.at[i,'p2_ID'] = this_play.get('details').get('hitteePlayerId')\n",
    "            pbp_df.at[i,'p2_name'] = game_roster.get(this_play.get('details').get('hitteePlayerId'))\n",
    "    \n",
    "        if this_play.get('typeCode') == 504: # If it's a giveaway\n",
    "            pbp_df.at[i,'p1_ID'] = this_play.get('details').get('playerId')\n",
    "            pbp_df.at[i,'p1_name'] = game_roster.get(this_play.get('details').get('playerId'))\n",
    "            \n",
    "        if this_play.get('typeCode') in shotCodes: # If the play is a shot type\n",
    "            if this_play.get('details').get('eventOwnerTeamId') == pbp_data.get('awayTeam').get('id'): # Away team shooting\n",
    "                pbp_df.at[i,'Home_Goalie_Id'] = this_play.get('details').get('goalieInNetId')\n",
    "                pbp_df.at[i,'Home_Goalie'] = game_roster.get(this_play.get('details').get('goalieInNetId'))     \n",
    "            if this_play.get('details').get('eventOwnerTeamId') == pbp_data.get('homeTeam').get('id'): # Home team shooting\n",
    "                pbp_df.at[i,'Away_Goalie_Id'] = this_play.get('details').get('goalieInNetId')\n",
    "                pbp_df.at[i,'Away_Goalie'] = game_roster.get(this_play.get('details').get('goalieInNetId'))            \n",
    "        \n",
    "        if this_play.get('typeCode') == 505: # If it's a goal\n",
    "            if type(this_play.get('details').get('shotType')) != NoneType: # If shotType is not available\n",
    "                pbp_df.at[i,'Type'] = this_play.get('details').get('shotType').upper()\n",
    "            pbp_df.at[i,'p1_ID'] = this_play.get('details').get('scoringPlayerId')\n",
    "            pbp_df.at[i,'p1_name'] = game_roster.get(this_play.get('details').get('scoringPlayerId'))\n",
    "            pbp_df.at[i,'p2_ID'] = this_play.get('details').get('assist1PlayerId')\n",
    "            pbp_df.at[i,'p2_name'] = game_roster.get(this_play.get('details').get('assist1PlayerId'))\n",
    "            pbp_df.at[i,'p3_ID'] = this_play.get('details').get('assist2PlayerId')\n",
    "            pbp_df.at[i,'p3_name'] = game_roster.get(this_play.get('details').get('assist2PlayerId'))\n",
    "            pbp_df.at[i,'Away_Score'] = this_play.get('details').get('awayScore')\n",
    "            pbp_df.at[i,'Home_Score'] = this_play.get('details').get('homeScore')\n",
    "\n",
    "        if this_play.get('typeCode') == 506: # If it's a shot on goal\n",
    "            if type(this_play.get('details').get('shotType')) != NoneType: # If shotType is not available\n",
    "                pbp_df.at[i,'Type'] = this_play.get('details').get('shotType').upper()\n",
    "            pbp_df.at[i,'p1_ID'] = this_play.get('details').get('shootingPlayerId')\n",
    "            pbp_df.at[i,'p1_name'] = game_roster.get(this_play.get('details').get('shootingPlayerId'))\n",
    "        \n",
    "        if this_play.get('typeCode') == 507: # If it's a missed shot\n",
    "            if type(this_play.get('details').get('shotType')) != NoneType: # If shotType is not available\n",
    "                pbp_df.at[i,'Type'] = this_play.get('details').get('shotType').upper()\n",
    "            pbp_df.at[i,'p1_ID'] = this_play.get('details').get('shootingPlayerId')\n",
    "            pbp_df.at[i,'p1_name'] = game_roster.get(this_play.get('details').get('shootingPlayerId'))\n",
    "\n",
    "        if this_play.get('typeCode') == 508: # If it's blocked shot\n",
    "            pbp_df.at[i,'p1_ID'] = this_play.get('details').get('blockingPlayerId')\n",
    "            pbp_df.at[i,'p1_name'] = game_roster.get(this_play.get('details').get('blockingPlayerId'))\n",
    "            pbp_df.at[i,'p2_ID'] = this_play.get('details').get('shootingPlayerId')\n",
    "            pbp_df.at[i,'p2_name'] = game_roster.get(this_play.get('details').get('shootingPlayerId'))  \n",
    "        \n",
    "        if this_play.get('typeCode') == 509: # If it's a penalty\n",
    "            pbp_df.at[i,'Type'] = this_play.get('details').get('typeCode') + ' for ' + this_play.get('details').get('descKey').upper()\n",
    "            pbp_df.at[i,'p1_ID'] = this_play.get('details').get('committedByPlayerId')\n",
    "            pbp_df.at[i,'p1_name'] = game_roster.get(this_play.get('details').get('committedByPlayerId'))\n",
    "            pbp_df.at[i,'p2_ID'] = this_play.get('details').get('drawnByPlayerId')\n",
    "            pbp_df.at[i,'p2_name'] = game_roster.get(this_play.get('details').get('drawnByPlayerId'))\n",
    "\n",
    "        if this_play.get('typeCode') == 516: # If it's a stoppage\n",
    "            pbp_df.at[i,'Type'] = this_play.get('details').get('reason').upper()\n",
    "\n",
    "        if this_play.get('typeCode') == 525: # If it's a takeaway\n",
    "            pbp_df.at[i,'p1_ID'] = this_play.get('details').get('playerId')\n",
    "            pbp_df.at[i,'p1_name'] = game_roster.get(this_play.get('details').get('playerId'))\n",
    "        \n",
    "#      if this_play.get('typeCode') == 535: # If it's a delayed penalty\n",
    "        \n",
    "    \n",
    "        if this_play.get('typeCode') == 537: # If it's a failed shot attempt\n",
    "            if type(this_play.get('details').get('shotType')) != NoneType: # If shotType is not available\n",
    "                pbp_df.at[i,'Type'] = this_play.get('details').get('shotType').upper()\n",
    "            pbp_df.at[i,'p1_ID'] = this_play.get('details').get('shootingPlayerId')\n",
    "            pbp_df.at[i,'p1_name'] = game_roster.get(this_play.get('details').get('shootingPlayerId'))\n",
    "\n",
    "    # Adding Shift Data\n",
    "    shifts = requests.get('https://api.nhle.com/stats/rest/en/shiftcharts?cayenneExp=gameId='+str(game_id))\n",
    "\n",
    "    shift_data = shifts.json()\n",
    "    shift_data.get('data')\n",
    "    \n",
    "    homePlayerList = ['homePlayer1_id','homePlayer2_id','homePlayer3_id','homePlayer4_id','homePlayer5_id','homePlayer6_id']\n",
    "    homePlayerList_names = ['homePlayer1','homePlayer2','homePlayer3','homePlayer4','homePlayer5','homePlayer6']\n",
    "    awayPlayerList = ['awayPlayer1_id','awayPlayer2_id','awayPlayer3_id','awayPlayer4_id','awayPlayer5_id','awayPlayer6_id']\n",
    "    awayPlayerList_names = ['awayPlayer1','awayPlayer2','awayPlayer3','awayPlayer4','awayPlayer5','awayPlayer6']\n",
    "    \n",
    "    for i in range(len(shift_data.get('data'))):\n",
    "    \n",
    "        shift = shift_data.get('data')[i]\n",
    "\n",
    "        period = shift.get('period')\n",
    "        shift_start = datetime.strptime(shift.get('startTime'),'%M:%S')\n",
    "        shift_end = datetime.strptime(shift.get('endTime'),'%M:%S')\n",
    "    \n",
    "        for j in range(len(pbp_df)):\n",
    "\n",
    "            time_elapsed = datetime.strptime(pbp_df.at[j,'Time_Elapsed'],'%M:%S')\n",
    "\n",
    "            awayPlayerList_loop = [pbp_df.at[j,'awayPlayer1_id'],pbp_df.at[j,'awayPlayer2_id'],pbp_df.at[j,'awayPlayer3_id'],\n",
    "                                   pbp_df.at[j,'awayPlayer4_id'],pbp_df.at[j,'awayPlayer5_id'],pbp_df.at[j,'awayPlayer6_id']]\n",
    "            homePlayerList_loop = [pbp_df.at[j,'homePlayer1_id'],pbp_df.at[j,'homePlayer2_id'],pbp_df.at[j,'homePlayer3_id'],\n",
    "                                   pbp_df.at[j,'homePlayer4_id'],pbp_df.at[j,'homePlayer5_id'],pbp_df.at[j,'homePlayer6_id']]\n",
    "\n",
    "            if (period == pbp_df.at[j,'Period']) & (shift_start <= time_elapsed < shift_end):\n",
    "\n",
    "                if shift.get('teamId') == awayTeam_Id:\n",
    "                    if shift.get('playerId') not in awayPlayerList_loop:\n",
    "                        for k in range(len(awayPlayerList)):\n",
    "                            if pd.isna(pbp_df.at[j,awayPlayerList[k]]) == True:\n",
    "                                pbp_df.at[j,awayPlayerList[k]] = shift.get('playerId')\n",
    "                                pbp_df.at[j,awayPlayerList_names[k]] = game_roster.get(shift.get('playerId'))\n",
    "                                break\n",
    "\n",
    "                if shift.get('teamId') == homeTeam_Id:\n",
    "                    if shift.get('playerId') not in homePlayerList_loop:\n",
    "                        for k in range(len(homePlayerList)):\n",
    "                            if pd.isna(pbp_df.at[j,homePlayerList[k]]) == True:\n",
    "                                pbp_df.at[j,homePlayerList[k]] = shift.get('playerId')\n",
    "                                pbp_df.at[j,homePlayerList_names[k]] = game_roster.get(shift.get('playerId'))\n",
    "                                break\n",
    "                                \n",
    "    # Adding goalies to blocked shots\n",
    "    for i in range(len(pbp_df)):\n",
    "        for j in range(len(away_on_ice_player_ids)):\n",
    "            for g_id in goalie_ids:\n",
    "                if g_id == pbp_df.at[i,away_on_ice_player_ids[j]]:\n",
    "                    pbp_df.at[i,'Away_Goalie_Id'] = g_id\n",
    "                    pbp_df.at[i,'Away_Goalie'] = game_roster.get(g_id)\n",
    "        for j in range(len(home_on_ice_player_ids)):\n",
    "            for g_id in goalie_ids:\n",
    "                if g_id == pbp_df.at[i,home_on_ice_player_ids[j]]:\n",
    "                    pbp_df.at[i,'Home_Goalie_Id'] = g_id\n",
    "                    pbp_df.at[i,'Home_Goalie'] = game_roster.get(g_id)\n",
    "                                \n",
    "    return pbp_df"
   ]
  },
  {
   "cell_type": "code",
   "execution_count": 19,
   "id": "90c83391",
   "metadata": {},
   "outputs": [],
   "source": [
    "# %%time\n",
    "\n",
    "# # Testing\n",
    "# get_play_by_play(game_id)"
   ]
  },
  {
   "cell_type": "markdown",
   "id": "b817b2ae",
   "metadata": {},
   "source": [
    "<br>\n",
    "\n",
    "## Getting Play-By-Play for Multiple Games"
   ]
  },
  {
   "cell_type": "code",
   "execution_count": 20,
   "id": "281578c6",
   "metadata": {},
   "outputs": [],
   "source": [
    "def get_multi_play_by_play(range_of_ids):\n",
    "    \n",
    "    df = get_play_by_play(range_of_ids[0])\n",
    "    \n",
    "    for i in range(1,len(range_of_ids)):\n",
    "        df2 = get_play_by_play(range_of_ids[i])\n",
    "        df = pd.concat([df,df2],axis=0)\n",
    "        \n",
    "    return df"
   ]
  },
  {
   "cell_type": "code",
   "execution_count": 21,
   "id": "d3d1097d",
   "metadata": {
    "scrolled": true
   },
   "outputs": [],
   "source": [
    "# Testing\n",
    "# get_multi_play_by_play(game_ids)"
   ]
  },
  {
   "cell_type": "markdown",
   "id": "55d21de1",
   "metadata": {},
   "source": [
    "<br>"
   ]
  }
 ],
 "metadata": {
  "kernelspec": {
   "display_name": "Python 3 (ipykernel)",
   "language": "python",
   "name": "python3"
  },
  "language_info": {
   "codemirror_mode": {
    "name": "ipython",
    "version": 3
   },
   "file_extension": ".py",
   "mimetype": "text/x-python",
   "name": "python",
   "nbconvert_exporter": "python",
   "pygments_lexer": "ipython3",
   "version": "3.10.13"
  }
 },
 "nbformat": 4,
 "nbformat_minor": 5
}
